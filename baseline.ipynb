{
 "cells": [
  {
   "cell_type": "code",
   "execution_count": 1,
   "id": "06c90387",
   "metadata": {
    "execution": {
     "iopub.execute_input": "2025-01-19T01:28:06.369032Z",
     "iopub.status.busy": "2025-01-19T01:28:06.368516Z",
     "iopub.status.idle": "2025-01-19T01:28:38.870949Z",
     "shell.execute_reply": "2025-01-19T01:28:38.869421Z"
    },
    "papermill": {
     "duration": 32.512984,
     "end_time": "2025-01-19T01:28:38.873174",
     "exception": false,
     "start_time": "2025-01-19T01:28:06.360190",
     "status": "completed"
    },
    "tags": []
   },
   "outputs": [
    {
     "name": "stdout",
     "output_type": "stream",
     "text": [
      "Collecting autogluon.tabular\r\n",
      "  Downloading autogluon.tabular-1.2-py3-none-any.whl.metadata (14 kB)\r\n",
      "Requirement already satisfied: numpy<2.1.4,>=1.25.0 in /usr/local/lib/python3.10/dist-packages (from autogluon.tabular) (1.26.4)\r\n",
      "Requirement already satisfied: scipy<1.16,>=1.5.4 in /usr/local/lib/python3.10/dist-packages (from autogluon.tabular) (1.13.1)\r\n",
      "Requirement already satisfied: pandas<2.3.0,>=2.0.0 in /usr/local/lib/python3.10/dist-packages (from autogluon.tabular) (2.2.2)\r\n",
      "Collecting scikit-learn<1.5.3,>=1.4.0 (from autogluon.tabular)\r\n",
      "  Downloading scikit_learn-1.5.2-cp310-cp310-manylinux_2_17_x86_64.manylinux2014_x86_64.whl.metadata (13 kB)\r\n",
      "Requirement already satisfied: networkx<4,>=3.0 in /usr/local/lib/python3.10/dist-packages (from autogluon.tabular) (3.4.2)\r\n",
      "Collecting autogluon.core==1.2 (from autogluon.tabular)\r\n",
      "  Downloading autogluon.core-1.2-py3-none-any.whl.metadata (12 kB)\r\n",
      "Collecting autogluon.features==1.2 (from autogluon.tabular)\r\n",
      "  Downloading autogluon.features-1.2-py3-none-any.whl.metadata (11 kB)\r\n",
      "Requirement already satisfied: tqdm<5,>=4.38 in /usr/local/lib/python3.10/dist-packages (from autogluon.core==1.2->autogluon.tabular) (4.67.1)\r\n",
      "Requirement already satisfied: requests in /usr/local/lib/python3.10/dist-packages (from autogluon.core==1.2->autogluon.tabular) (2.32.3)\r\n",
      "Requirement already satisfied: matplotlib<3.11,>=3.7.0 in /usr/local/lib/python3.10/dist-packages (from autogluon.core==1.2->autogluon.tabular) (3.7.5)\r\n",
      "Requirement already satisfied: boto3<2,>=1.10 in /usr/local/lib/python3.10/dist-packages (from autogluon.core==1.2->autogluon.tabular) (1.35.93)\r\n",
      "Collecting autogluon.common==1.2 (from autogluon.core==1.2->autogluon.tabular)\r\n",
      "  Downloading autogluon.common-1.2-py3-none-any.whl.metadata (11 kB)\r\n",
      "Requirement already satisfied: psutil<7.0.0,>=5.7.3 in /usr/local/lib/python3.10/dist-packages (from autogluon.common==1.2->autogluon.core==1.2->autogluon.tabular) (5.9.5)\r\n",
      "Requirement already satisfied: mkl_fft in /usr/local/lib/python3.10/dist-packages (from numpy<2.1.4,>=1.25.0->autogluon.tabular) (1.3.8)\r\n",
      "Requirement already satisfied: mkl_random in /usr/local/lib/python3.10/dist-packages (from numpy<2.1.4,>=1.25.0->autogluon.tabular) (1.2.4)\r\n",
      "Requirement already satisfied: mkl_umath in /usr/local/lib/python3.10/dist-packages (from numpy<2.1.4,>=1.25.0->autogluon.tabular) (0.1.1)\r\n",
      "Requirement already satisfied: mkl in /usr/local/lib/python3.10/dist-packages (from numpy<2.1.4,>=1.25.0->autogluon.tabular) (2025.0.1)\r\n",
      "Requirement already satisfied: tbb4py in /usr/local/lib/python3.10/dist-packages (from numpy<2.1.4,>=1.25.0->autogluon.tabular) (2022.0.0)\r\n",
      "Requirement already satisfied: mkl-service in /usr/local/lib/python3.10/dist-packages (from numpy<2.1.4,>=1.25.0->autogluon.tabular) (2.4.1)\r\n",
      "Requirement already satisfied: python-dateutil>=2.8.2 in /usr/local/lib/python3.10/dist-packages (from pandas<2.3.0,>=2.0.0->autogluon.tabular) (2.8.2)\r\n",
      "Requirement already satisfied: pytz>=2020.1 in /usr/local/lib/python3.10/dist-packages (from pandas<2.3.0,>=2.0.0->autogluon.tabular) (2024.2)\r\n",
      "Requirement already satisfied: tzdata>=2022.7 in /usr/local/lib/python3.10/dist-packages (from pandas<2.3.0,>=2.0.0->autogluon.tabular) (2024.2)\r\n",
      "Requirement already satisfied: joblib>=1.2.0 in /usr/local/lib/python3.10/dist-packages (from scikit-learn<1.5.3,>=1.4.0->autogluon.tabular) (1.4.2)\r\n",
      "Requirement already satisfied: threadpoolctl>=3.1.0 in /usr/local/lib/python3.10/dist-packages (from scikit-learn<1.5.3,>=1.4.0->autogluon.tabular) (3.5.0)\r\n",
      "Requirement already satisfied: botocore<1.36.0,>=1.35.93 in /usr/local/lib/python3.10/dist-packages (from boto3<2,>=1.10->autogluon.core==1.2->autogluon.tabular) (1.35.93)\r\n",
      "Requirement already satisfied: jmespath<2.0.0,>=0.7.1 in /usr/local/lib/python3.10/dist-packages (from boto3<2,>=1.10->autogluon.core==1.2->autogluon.tabular) (1.0.1)\r\n",
      "Requirement already satisfied: s3transfer<0.11.0,>=0.10.0 in /usr/local/lib/python3.10/dist-packages (from boto3<2,>=1.10->autogluon.core==1.2->autogluon.tabular) (0.10.4)\r\n",
      "Requirement already satisfied: contourpy>=1.0.1 in /usr/local/lib/python3.10/dist-packages (from matplotlib<3.11,>=3.7.0->autogluon.core==1.2->autogluon.tabular) (1.3.1)\r\n",
      "Requirement already satisfied: cycler>=0.10 in /usr/local/lib/python3.10/dist-packages (from matplotlib<3.11,>=3.7.0->autogluon.core==1.2->autogluon.tabular) (0.12.1)\r\n",
      "Requirement already satisfied: fonttools>=4.22.0 in /usr/local/lib/python3.10/dist-packages (from matplotlib<3.11,>=3.7.0->autogluon.core==1.2->autogluon.tabular) (4.55.3)\r\n",
      "Requirement already satisfied: kiwisolver>=1.0.1 in /usr/local/lib/python3.10/dist-packages (from matplotlib<3.11,>=3.7.0->autogluon.core==1.2->autogluon.tabular) (1.4.7)\r\n",
      "Requirement already satisfied: packaging>=20.0 in /usr/local/lib/python3.10/dist-packages (from matplotlib<3.11,>=3.7.0->autogluon.core==1.2->autogluon.tabular) (24.2)\r\n",
      "Requirement already satisfied: pillow>=6.2.0 in /usr/local/lib/python3.10/dist-packages (from matplotlib<3.11,>=3.7.0->autogluon.core==1.2->autogluon.tabular) (11.0.0)\r\n",
      "Requirement already satisfied: pyparsing>=2.3.1 in /usr/local/lib/python3.10/dist-packages (from matplotlib<3.11,>=3.7.0->autogluon.core==1.2->autogluon.tabular) (3.2.0)\r\n",
      "Requirement already satisfied: six>=1.5 in /usr/local/lib/python3.10/dist-packages (from python-dateutil>=2.8.2->pandas<2.3.0,>=2.0.0->autogluon.tabular) (1.17.0)\r\n",
      "Requirement already satisfied: intel-openmp>=2024 in /usr/local/lib/python3.10/dist-packages (from mkl->numpy<2.1.4,>=1.25.0->autogluon.tabular) (2024.2.0)\r\n",
      "Requirement already satisfied: tbb==2022.* in /usr/local/lib/python3.10/dist-packages (from mkl->numpy<2.1.4,>=1.25.0->autogluon.tabular) (2022.0.0)\r\n",
      "Requirement already satisfied: tcmlib==1.* in /usr/local/lib/python3.10/dist-packages (from tbb==2022.*->mkl->numpy<2.1.4,>=1.25.0->autogluon.tabular) (1.2.0)\r\n",
      "Requirement already satisfied: intel-cmplr-lib-rt in /usr/local/lib/python3.10/dist-packages (from mkl_umath->numpy<2.1.4,>=1.25.0->autogluon.tabular) (2024.2.0)\r\n",
      "Requirement already satisfied: charset-normalizer<4,>=2 in /usr/local/lib/python3.10/dist-packages (from requests->autogluon.core==1.2->autogluon.tabular) (3.4.0)\r\n",
      "Requirement already satisfied: idna<4,>=2.5 in /usr/local/lib/python3.10/dist-packages (from requests->autogluon.core==1.2->autogluon.tabular) (3.10)\r\n",
      "Requirement already satisfied: urllib3<3,>=1.21.1 in /usr/local/lib/python3.10/dist-packages (from requests->autogluon.core==1.2->autogluon.tabular) (2.2.3)\r\n",
      "Requirement already satisfied: certifi>=2017.4.17 in /usr/local/lib/python3.10/dist-packages (from requests->autogluon.core==1.2->autogluon.tabular) (2024.12.14)\r\n",
      "Requirement already satisfied: intel-cmplr-lib-ur==2024.2.0 in /usr/local/lib/python3.10/dist-packages (from intel-openmp>=2024->mkl->numpy<2.1.4,>=1.25.0->autogluon.tabular) (2024.2.0)\r\n",
      "Downloading autogluon.tabular-1.2-py3-none-any.whl (352 kB)\r\n",
      "\u001b[2K   \u001b[90m━━━━━━━━━━━━━━━━━━━━━━━━━━━━━━━━━━━━━━━━\u001b[0m \u001b[32m352.2/352.2 kB\u001b[0m \u001b[31m7.2 MB/s\u001b[0m eta \u001b[36m0:00:00\u001b[0m\r\n",
      "\u001b[?25hDownloading autogluon.core-1.2-py3-none-any.whl (266 kB)\r\n",
      "\u001b[2K   \u001b[90m━━━━━━━━━━━━━━━━━━━━━━━━━━━━━━━━━━━━━━━━\u001b[0m \u001b[32m266.2/266.2 kB\u001b[0m \u001b[31m11.2 MB/s\u001b[0m eta \u001b[36m0:00:00\u001b[0m\r\n",
      "\u001b[?25hDownloading autogluon.features-1.2-py3-none-any.whl (64 kB)\r\n",
      "\u001b[2K   \u001b[90m━━━━━━━━━━━━━━━━━━━━━━━━━━━━━━━━━━━━━━━━\u001b[0m \u001b[32m64.1/64.1 kB\u001b[0m \u001b[31m2.9 MB/s\u001b[0m eta \u001b[36m0:00:00\u001b[0m\r\n",
      "\u001b[?25hDownloading autogluon.common-1.2-py3-none-any.whl (68 kB)\r\n",
      "\u001b[2K   \u001b[90m━━━━━━━━━━━━━━━━━━━━━━━━━━━━━━━━━━━━━━━━\u001b[0m \u001b[32m68.2/68.2 kB\u001b[0m \u001b[31m3.4 MB/s\u001b[0m eta \u001b[36m0:00:00\u001b[0m\r\n",
      "\u001b[?25hDownloading scikit_learn-1.5.2-cp310-cp310-manylinux_2_17_x86_64.manylinux2014_x86_64.whl (13.3 MB)\r\n",
      "\u001b[2K   \u001b[90m━━━━━━━━━━━━━━━━━━━━━━━━━━━━━━━━━━━━━━━━\u001b[0m \u001b[32m13.3/13.3 MB\u001b[0m \u001b[31m74.2 MB/s\u001b[0m eta \u001b[36m0:00:00\u001b[0m\r\n",
      "\u001b[?25hInstalling collected packages: scikit-learn, autogluon.common, autogluon.features, autogluon.core, autogluon.tabular\r\n",
      "  Attempting uninstall: scikit-learn\r\n",
      "    Found existing installation: scikit-learn 1.2.2\r\n",
      "    Uninstalling scikit-learn-1.2.2:\r\n",
      "      Successfully uninstalled scikit-learn-1.2.2\r\n",
      "Successfully installed autogluon.common-1.2 autogluon.core-1.2 autogluon.features-1.2 autogluon.tabular-1.2 scikit-learn-1.5.2\r\n",
      "Collecting ray==2.10.0\r\n",
      "  Downloading ray-2.10.0-cp310-cp310-manylinux2014_x86_64.whl.metadata (13 kB)\r\n",
      "Requirement already satisfied: click>=7.0 in /usr/local/lib/python3.10/dist-packages (from ray==2.10.0) (8.1.7)\r\n",
      "Requirement already satisfied: filelock in /usr/local/lib/python3.10/dist-packages (from ray==2.10.0) (3.16.1)\r\n",
      "Requirement already satisfied: jsonschema in /usr/local/lib/python3.10/dist-packages (from ray==2.10.0) (4.23.0)\r\n",
      "Requirement already satisfied: msgpack<2.0.0,>=1.0.0 in /usr/local/lib/python3.10/dist-packages (from ray==2.10.0) (1.1.0)\r\n",
      "Requirement already satisfied: packaging in /usr/local/lib/python3.10/dist-packages (from ray==2.10.0) (24.2)\r\n",
      "Requirement already satisfied: protobuf!=3.19.5,>=3.15.3 in /usr/local/lib/python3.10/dist-packages (from ray==2.10.0) (3.20.3)\r\n",
      "Requirement already satisfied: pyyaml in /usr/local/lib/python3.10/dist-packages (from ray==2.10.0) (6.0.2)\r\n",
      "Requirement already satisfied: aiosignal in /usr/local/lib/python3.10/dist-packages (from ray==2.10.0) (1.3.2)\r\n",
      "Requirement already satisfied: frozenlist in /usr/local/lib/python3.10/dist-packages (from ray==2.10.0) (1.5.0)\r\n",
      "Requirement already satisfied: requests in /usr/local/lib/python3.10/dist-packages (from ray==2.10.0) (2.32.3)\r\n",
      "Requirement already satisfied: attrs>=22.2.0 in /usr/local/lib/python3.10/dist-packages (from jsonschema->ray==2.10.0) (24.3.0)\r\n",
      "Requirement already satisfied: jsonschema-specifications>=2023.03.6 in /usr/local/lib/python3.10/dist-packages (from jsonschema->ray==2.10.0) (2024.10.1)\r\n",
      "Requirement already satisfied: referencing>=0.28.4 in /usr/local/lib/python3.10/dist-packages (from jsonschema->ray==2.10.0) (0.35.1)\r\n",
      "Requirement already satisfied: rpds-py>=0.7.1 in /usr/local/lib/python3.10/dist-packages (from jsonschema->ray==2.10.0) (0.22.3)\r\n",
      "Requirement already satisfied: charset-normalizer<4,>=2 in /usr/local/lib/python3.10/dist-packages (from requests->ray==2.10.0) (3.4.0)\r\n",
      "Requirement already satisfied: idna<4,>=2.5 in /usr/local/lib/python3.10/dist-packages (from requests->ray==2.10.0) (3.10)\r\n",
      "Requirement already satisfied: urllib3<3,>=1.21.1 in /usr/local/lib/python3.10/dist-packages (from requests->ray==2.10.0) (2.2.3)\r\n",
      "Requirement already satisfied: certifi>=2017.4.17 in /usr/local/lib/python3.10/dist-packages (from requests->ray==2.10.0) (2024.12.14)\r\n",
      "Downloading ray-2.10.0-cp310-cp310-manylinux2014_x86_64.whl (65.1 MB)\r\n",
      "\u001b[2K   \u001b[90m━━━━━━━━━━━━━━━━━━━━━━━━━━━━━━━━━━━━━━━━\u001b[0m \u001b[32m65.1/65.1 MB\u001b[0m \u001b[31m23.8 MB/s\u001b[0m eta \u001b[36m0:00:00\u001b[0m\r\n",
      "\u001b[?25hInstalling collected packages: ray\r\n",
      "  Attempting uninstall: ray\r\n",
      "    Found existing installation: ray 2.40.0\r\n",
      "    Uninstalling ray-2.40.0:\r\n",
      "      Successfully uninstalled ray-2.40.0\r\n",
      "Successfully installed ray-2.10.0\r\n"
     ]
    }
   ],
   "source": [
    "!pip install autogluon.tabular\n",
    "!pip install ray==2.10.0"
   ]
  },
  {
   "cell_type": "code",
   "execution_count": 2,
   "id": "cff4cbb8",
   "metadata": {
    "execution": {
     "iopub.execute_input": "2025-01-19T01:28:38.887867Z",
     "iopub.status.busy": "2025-01-19T01:28:38.887382Z",
     "iopub.status.idle": "2025-01-19T01:28:40.097465Z",
     "shell.execute_reply": "2025-01-19T01:28:40.096234Z"
    },
    "papermill": {
     "duration": 1.220135,
     "end_time": "2025-01-19T01:28:40.100272",
     "exception": false,
     "start_time": "2025-01-19T01:28:38.880137",
     "status": "completed"
    },
    "tags": []
   },
   "outputs": [],
   "source": [
    "import numpy as np\n",
    "import pandas as pd"
   ]
  },
  {
   "cell_type": "code",
   "execution_count": 3,
   "id": "3607b5bd",
   "metadata": {
    "execution": {
     "iopub.execute_input": "2025-01-19T01:28:40.115533Z",
     "iopub.status.busy": "2025-01-19T01:28:40.114942Z",
     "iopub.status.idle": "2025-01-19T01:28:41.218356Z",
     "shell.execute_reply": "2025-01-19T01:28:41.217130Z"
    },
    "papermill": {
     "duration": 1.114301,
     "end_time": "2025-01-19T01:28:41.221040",
     "exception": false,
     "start_time": "2025-01-19T01:28:40.106739",
     "status": "completed"
    },
    "tags": []
   },
   "outputs": [],
   "source": [
    "sub = pd.read_csv(\"/kaggle/input/playground-series-s4e11/sample_submission.csv\")\n",
    "original = pd.read_csv(\"/kaggle/input/depression-surveydataset-for-analysis/final_depression_dataset_1.csv\")\n",
    "train = pd.read_csv(\"/kaggle/input/playground-series-s4e11/train.csv\")\n",
    "test = pd.read_csv(\"/kaggle/input/playground-series-s4e11/test.csv\")"
   ]
  },
  {
   "cell_type": "code",
   "execution_count": 4,
   "id": "3fb8c61e",
   "metadata": {
    "execution": {
     "iopub.execute_input": "2025-01-19T01:28:41.235488Z",
     "iopub.status.busy": "2025-01-19T01:28:41.235060Z",
     "iopub.status.idle": "2025-01-19T01:28:41.294876Z",
     "shell.execute_reply": "2025-01-19T01:28:41.293616Z"
    },
    "papermill": {
     "duration": 0.069559,
     "end_time": "2025-01-19T01:28:41.296965",
     "exception": false,
     "start_time": "2025-01-19T01:28:41.227406",
     "status": "completed"
    },
    "tags": []
   },
   "outputs": [],
   "source": [
    "train = train.drop('id', axis = 1)\n",
    "test_ids = test['id'].values\n",
    "test = test.drop('id', axis = 1)\n",
    "original[\"Depression\"] = original[\"Depression\"].map({\"Yes\": 1, \"No\": 0})\n",
    "train = pd.concat([train, original], ignore_index=True)"
   ]
  },
  {
   "cell_type": "code",
   "execution_count": 5,
   "id": "c65528d0",
   "metadata": {
    "execution": {
     "iopub.execute_input": "2025-01-19T01:28:41.312048Z",
     "iopub.status.busy": "2025-01-19T01:28:41.311691Z",
     "iopub.status.idle": "2025-01-19T01:28:41.320787Z",
     "shell.execute_reply": "2025-01-19T01:28:41.319103Z"
    },
    "papermill": {
     "duration": 0.019739,
     "end_time": "2025-01-19T01:28:41.322949",
     "exception": false,
     "start_time": "2025-01-19T01:28:41.303210",
     "status": "completed"
    },
    "tags": []
   },
   "outputs": [
    {
     "data": {
      "text/plain": [
       "Index(['Name', 'Gender', 'Age', 'City', 'Working Professional or Student',\n",
       "       'Profession', 'Academic Pressure', 'Work Pressure', 'CGPA',\n",
       "       'Study Satisfaction', 'Job Satisfaction', 'Sleep Duration',\n",
       "       'Dietary Habits', 'Degree', 'Have you ever had suicidal thoughts ?',\n",
       "       'Work/Study Hours', 'Financial Stress',\n",
       "       'Family History of Mental Illness', 'Depression'],\n",
       "      dtype='object')"
      ]
     },
     "execution_count": 5,
     "metadata": {},
     "output_type": "execute_result"
    }
   ],
   "source": [
    "train.columns"
   ]
  },
  {
   "cell_type": "code",
   "execution_count": 6,
   "id": "07be3788",
   "metadata": {
    "execution": {
     "iopub.execute_input": "2025-01-19T01:28:41.338078Z",
     "iopub.status.busy": "2025-01-19T01:28:41.337696Z",
     "iopub.status.idle": "2025-01-19T01:28:41.367878Z",
     "shell.execute_reply": "2025-01-19T01:28:41.366601Z"
    },
    "papermill": {
     "duration": 0.040223,
     "end_time": "2025-01-19T01:28:41.369770",
     "exception": false,
     "start_time": "2025-01-19T01:28:41.329547",
     "status": "completed"
    },
    "tags": []
   },
   "outputs": [
    {
     "name": "stderr",
     "output_type": "stream",
     "text": [
      "/usr/local/lib/python3.10/dist-packages/pandas/io/formats/format.py:1458: RuntimeWarning: invalid value encountered in greater\n",
      "  has_large_values = (abs_vals > 1e6).any()\n",
      "/usr/local/lib/python3.10/dist-packages/pandas/io/formats/format.py:1459: RuntimeWarning: invalid value encountered in less\n",
      "  has_small_values = ((abs_vals < 10 ** (-self.digits)) & (abs_vals > 0)).any()\n",
      "/usr/local/lib/python3.10/dist-packages/pandas/io/formats/format.py:1459: RuntimeWarning: invalid value encountered in greater\n",
      "  has_small_values = ((abs_vals < 10 ** (-self.digits)) & (abs_vals > 0)).any()\n"
     ]
    },
    {
     "data": {
      "text/html": [
       "<div>\n",
       "<style scoped>\n",
       "    .dataframe tbody tr th:only-of-type {\n",
       "        vertical-align: middle;\n",
       "    }\n",
       "\n",
       "    .dataframe tbody tr th {\n",
       "        vertical-align: top;\n",
       "    }\n",
       "\n",
       "    .dataframe thead th {\n",
       "        text-align: right;\n",
       "    }\n",
       "</style>\n",
       "<table border=\"1\" class=\"dataframe\">\n",
       "  <thead>\n",
       "    <tr style=\"text-align: right;\">\n",
       "      <th></th>\n",
       "      <th>Name</th>\n",
       "      <th>Gender</th>\n",
       "      <th>Age</th>\n",
       "      <th>City</th>\n",
       "      <th>Working Professional or Student</th>\n",
       "      <th>Profession</th>\n",
       "      <th>Academic Pressure</th>\n",
       "      <th>Work Pressure</th>\n",
       "      <th>CGPA</th>\n",
       "      <th>Study Satisfaction</th>\n",
       "      <th>Job Satisfaction</th>\n",
       "      <th>Sleep Duration</th>\n",
       "      <th>Dietary Habits</th>\n",
       "      <th>Degree</th>\n",
       "      <th>Have you ever had suicidal thoughts ?</th>\n",
       "      <th>Work/Study Hours</th>\n",
       "      <th>Financial Stress</th>\n",
       "      <th>Family History of Mental Illness</th>\n",
       "      <th>Depression</th>\n",
       "    </tr>\n",
       "  </thead>\n",
       "  <tbody>\n",
       "    <tr>\n",
       "      <th>0</th>\n",
       "      <td>Pooja</td>\n",
       "      <td>Female</td>\n",
       "      <td>37</td>\n",
       "      <td>Ghaziabad</td>\n",
       "      <td>Working Professional</td>\n",
       "      <td>Teacher</td>\n",
       "      <td>NaN</td>\n",
       "      <td>2.0</td>\n",
       "      <td>NaN</td>\n",
       "      <td>NaN</td>\n",
       "      <td>4.0</td>\n",
       "      <td>7-8 hours</td>\n",
       "      <td>Moderate</td>\n",
       "      <td>MA</td>\n",
       "      <td>No</td>\n",
       "      <td>6</td>\n",
       "      <td>2</td>\n",
       "      <td>No</td>\n",
       "      <td>0</td>\n",
       "    </tr>\n",
       "    <tr>\n",
       "      <th>1</th>\n",
       "      <td>Reyansh</td>\n",
       "      <td>Male</td>\n",
       "      <td>60</td>\n",
       "      <td>Kalyan</td>\n",
       "      <td>Working Professional</td>\n",
       "      <td>Financial Analyst</td>\n",
       "      <td>NaN</td>\n",
       "      <td>4.0</td>\n",
       "      <td>NaN</td>\n",
       "      <td>NaN</td>\n",
       "      <td>3.0</td>\n",
       "      <td>5-6 hours</td>\n",
       "      <td>Unhealthy</td>\n",
       "      <td>B.Com</td>\n",
       "      <td>Yes</td>\n",
       "      <td>0</td>\n",
       "      <td>4</td>\n",
       "      <td>Yes</td>\n",
       "      <td>0</td>\n",
       "    </tr>\n",
       "    <tr>\n",
       "      <th>2</th>\n",
       "      <td>Manvi</td>\n",
       "      <td>Female</td>\n",
       "      <td>42</td>\n",
       "      <td>Bhopal</td>\n",
       "      <td>Working Professional</td>\n",
       "      <td>Teacher</td>\n",
       "      <td>NaN</td>\n",
       "      <td>2.0</td>\n",
       "      <td>NaN</td>\n",
       "      <td>NaN</td>\n",
       "      <td>3.0</td>\n",
       "      <td>5-6 hours</td>\n",
       "      <td>Moderate</td>\n",
       "      <td>M.Com</td>\n",
       "      <td>No</td>\n",
       "      <td>0</td>\n",
       "      <td>2</td>\n",
       "      <td>No</td>\n",
       "      <td>0</td>\n",
       "    </tr>\n",
       "    <tr>\n",
       "      <th>3</th>\n",
       "      <td>Isha</td>\n",
       "      <td>Female</td>\n",
       "      <td>44</td>\n",
       "      <td>Thane</td>\n",
       "      <td>Working Professional</td>\n",
       "      <td>Teacher</td>\n",
       "      <td>NaN</td>\n",
       "      <td>3.0</td>\n",
       "      <td>NaN</td>\n",
       "      <td>NaN</td>\n",
       "      <td>5.0</td>\n",
       "      <td>7-8 hours</td>\n",
       "      <td>Healthy</td>\n",
       "      <td>MD</td>\n",
       "      <td>Yes</td>\n",
       "      <td>1</td>\n",
       "      <td>2</td>\n",
       "      <td>Yes</td>\n",
       "      <td>0</td>\n",
       "    </tr>\n",
       "    <tr>\n",
       "      <th>4</th>\n",
       "      <td>Aarav</td>\n",
       "      <td>Male</td>\n",
       "      <td>48</td>\n",
       "      <td>Indore</td>\n",
       "      <td>Working Professional</td>\n",
       "      <td>UX/UI Designer</td>\n",
       "      <td>NaN</td>\n",
       "      <td>4.0</td>\n",
       "      <td>NaN</td>\n",
       "      <td>NaN</td>\n",
       "      <td>3.0</td>\n",
       "      <td>7-8 hours</td>\n",
       "      <td>Moderate</td>\n",
       "      <td>BE</td>\n",
       "      <td>Yes</td>\n",
       "      <td>6</td>\n",
       "      <td>5</td>\n",
       "      <td>Yes</td>\n",
       "      <td>0</td>\n",
       "    </tr>\n",
       "  </tbody>\n",
       "</table>\n",
       "</div>"
      ],
      "text/plain": [
       "      Name  Gender  Age       City Working Professional or Student  \\\n",
       "0    Pooja  Female   37  Ghaziabad            Working Professional   \n",
       "1  Reyansh    Male   60     Kalyan            Working Professional   \n",
       "2    Manvi  Female   42     Bhopal            Working Professional   \n",
       "3     Isha  Female   44      Thane            Working Professional   \n",
       "4    Aarav    Male   48     Indore            Working Professional   \n",
       "\n",
       "          Profession  Academic Pressure  Work Pressure  CGPA  \\\n",
       "0            Teacher                NaN            2.0   NaN   \n",
       "1  Financial Analyst                NaN            4.0   NaN   \n",
       "2            Teacher                NaN            2.0   NaN   \n",
       "3            Teacher                NaN            3.0   NaN   \n",
       "4     UX/UI Designer                NaN            4.0   NaN   \n",
       "\n",
       "   Study Satisfaction  Job Satisfaction Sleep Duration Dietary Habits Degree  \\\n",
       "0                 NaN               4.0      7-8 hours       Moderate     MA   \n",
       "1                 NaN               3.0      5-6 hours      Unhealthy  B.Com   \n",
       "2                 NaN               3.0      5-6 hours       Moderate  M.Com   \n",
       "3                 NaN               5.0      7-8 hours        Healthy     MD   \n",
       "4                 NaN               3.0      7-8 hours       Moderate     BE   \n",
       "\n",
       "  Have you ever had suicidal thoughts ?  Work/Study Hours  Financial Stress  \\\n",
       "0                                    No                 6                 2   \n",
       "1                                   Yes                 0                 4   \n",
       "2                                    No                 0                 2   \n",
       "3                                   Yes                 1                 2   \n",
       "4                                   Yes                 6                 5   \n",
       "\n",
       "  Family History of Mental Illness  Depression  \n",
       "0                               No           0  \n",
       "1                              Yes           0  \n",
       "2                               No           0  \n",
       "3                              Yes           0  \n",
       "4                              Yes           0  "
      ]
     },
     "execution_count": 6,
     "metadata": {},
     "output_type": "execute_result"
    }
   ],
   "source": [
    "original.head()"
   ]
  },
  {
   "cell_type": "code",
   "execution_count": 7,
   "id": "5d031429",
   "metadata": {
    "execution": {
     "iopub.execute_input": "2025-01-19T01:28:41.386284Z",
     "iopub.status.busy": "2025-01-19T01:28:41.385898Z",
     "iopub.status.idle": "2025-01-19T01:28:41.878552Z",
     "shell.execute_reply": "2025-01-19T01:28:41.877172Z"
    },
    "papermill": {
     "duration": 0.503467,
     "end_time": "2025-01-19T01:28:41.880886",
     "exception": false,
     "start_time": "2025-01-19T01:28:41.377419",
     "status": "completed"
    },
    "tags": []
   },
   "outputs": [],
   "source": [
    "for col in [\"Name\", \"City\", \"Profession\", \"Degree\",  \"Dietary Habits\", \"Sleep Duration\"]:\n",
    "    unique_vals = original[col].unique()\n",
    "    train.loc[~train[col].isin(unique_vals), col] = \"FAKE\"\n",
    "    test.loc[~test[col].isin(unique_vals), col] = \"FAKE\"\n",
    "cat_c = test.select_dtypes(include=\"object\").columns\n",
    "\n",
    "train[cat_c] = train[cat_c].fillna('None').astype(\"category\")\n",
    "test[cat_c] = test[cat_c].fillna('None').astype(\"category\")"
   ]
  },
  {
   "cell_type": "code",
   "execution_count": 8,
   "id": "1f79d14e",
   "metadata": {
    "execution": {
     "iopub.execute_input": "2025-01-19T01:28:41.896884Z",
     "iopub.status.busy": "2025-01-19T01:28:41.896493Z",
     "iopub.status.idle": "2025-01-19T12:38:17.563382Z",
     "shell.execute_reply": "2025-01-19T12:38:17.561390Z"
    },
    "papermill": {
     "duration": 40175.677416,
     "end_time": "2025-01-19T12:38:17.566110",
     "exception": false,
     "start_time": "2025-01-19T01:28:41.888694",
     "status": "completed"
    },
    "tags": []
   },
   "outputs": [
    {
     "name": "stderr",
     "output_type": "stream",
     "text": [
      "No path specified. Models will be saved in: \"AutogluonModels/ag-20250119_012845\"\n",
      "2025-01-19 01:28:48,570\tINFO worker.py:1752 -- Started a local Ray instance.\n"
     ]
    },
    {
     "name": "stdout",
     "output_type": "stream",
     "text": [
      "*** Summary of fit() ***\n",
      "Estimated performance of each model:\n",
      "                          model  score_val eval_metric  pred_time_val      fit_time  pred_time_val_marginal  fit_time_marginal  stack_level  can_infer  fit_order\n",
      "0           WeightedEnsemble_L3   0.976614     roc_auc     272.622149  21710.153773                0.025909          44.247659            3       True         63\n",
      "1           WeightedEnsemble_L2   0.976591     roc_auc      73.885781  11488.305937                0.025776          25.519042            2       True         35\n",
      "2           CatBoost_r13_BAG_L2   0.976509     roc_auc     270.171890  20445.988297                0.664387         853.724741            2       True         58\n",
      "3               CatBoost_BAG_L2   0.976468     roc_auc     270.076723  19924.285663                0.569220         332.022107            2       True         40\n",
      "4          CatBoost_r137_BAG_L2   0.976460     roc_auc     270.071806  19999.527267                0.564302         407.263710            2       True         56\n",
      "5            CatBoost_r9_BAG_L2   0.976452     roc_auc     270.483689  19889.372030                0.976186         297.108474            2       True         51\n",
      "6          CatBoost_r177_BAG_L2   0.976389     roc_auc     269.822145  19775.787081                0.314642         183.523525            2       True         47\n",
      "7          CatBoost_r137_BAG_L1   0.976262     roc_auc       2.004109   2441.820613                2.004109        2441.820613            1       True         23\n",
      "8               CatBoost_BAG_L1   0.976260     roc_auc       2.370455   1673.451948                2.370455        1673.451948            1       True          7\n",
      "9           CatBoost_r13_BAG_L1   0.976237     roc_auc       3.158121   2516.854615                3.158121        2516.854615            1       True         25\n",
      "10               XGBoost_BAG_L2   0.976227     roc_auc     271.581502  19838.617418                2.073999         246.353861            2       True         44\n",
      "11         CatBoost_r177_BAG_L1   0.976176     roc_auc       1.174716    812.922001                1.174716         812.922001            1       True         14\n",
      "12          LightGBM_r96_BAG_L2   0.976152     roc_auc     274.282666  19659.126508                4.775163          66.862951            2       True         52\n",
      "13           XGBoost_r33_BAG_L2   0.976103     roc_auc     285.980371  20568.489021               16.472868         976.225464            2       True         54\n",
      "14            LightGBMXT_BAG_L2   0.975923     roc_auc     271.455043  19629.706607                1.947540          37.443050            2       True         36\n",
      "15          LightGBM_r96_BAG_L1   0.975867     roc_auc      31.906390    145.953835               31.906390         145.953835            1       True         19\n",
      "16    NeuralNetTorch_r79_BAG_L2   0.975843     roc_auc     273.719260  20028.414713                4.211756         436.151156            2       True         48\n",
      "17           XGBoost_r89_BAG_L1   0.975811     roc_auc       4.049321    788.821864                4.049321         788.821864            1       True         29\n",
      "18         LightGBM_r188_BAG_L2   0.975786     roc_auc     273.310569  19643.121571                3.803066          50.858015            2       True         60\n",
      "19         LightGBM_r131_BAG_L2   0.975767     roc_auc     278.211090  19689.915642                8.703587          97.652085            2       True         49\n",
      "20              LightGBM_BAG_L2   0.975581     roc_auc     271.016871  19630.867227                1.509367          38.603670            2       True         37\n",
      "21    NeuralNetTorch_r22_BAG_L2   0.975516     roc_auc     274.606696  20250.295954                5.099193         658.032397            2       True         53\n",
      "22         LightGBM_r188_BAG_L1   0.975514     roc_auc      10.337959     51.588352               10.337959          51.588352            1       True         27\n",
      "23  NeuralNetFastAI_r191_BAG_L2   0.975467     roc_auc     277.599599  21555.468613                8.092096        1963.205056            2       True         50\n",
      "24           CatBoost_r9_BAG_L1   0.975426     roc_auc       1.724674    425.616715                1.724674         425.616715            1       True         18\n",
      "25               XGBoost_BAG_L1   0.975412     roc_auc       3.092107    527.847089                3.092107         527.847089            1       True         11\n",
      "26          CatBoost_r50_BAG_L1   0.975390     roc_auc       1.940571    165.806266                1.940571         165.806266            1       True         33\n",
      "27           XGBoost_r33_BAG_L1   0.975373     roc_auc      53.943965   1618.238015               53.943965        1618.238015            1       True         21\n",
      "28         LightGBMLarge_BAG_L2   0.975328     roc_auc     272.439452  19661.043041                2.931949          68.779484            2       True         46\n",
      "29        NeuralNetTorch_BAG_L2   0.975294     roc_auc     273.329333  19983.341287                3.821830         391.077730            2       True         45\n",
      "30         LightGBM_r130_BAG_L1   0.975283     roc_auc       5.982582     37.033586                5.982582          37.033586            1       True         31\n",
      "31            LightGBMXT_BAG_L1   0.975275     roc_auc       4.921419     34.078248                4.921419          34.078248            1       True          3\n",
      "32           XGBoost_r89_BAG_L2   0.975208     roc_auc     270.863459  19640.141921                1.355956          47.878364            2       True         62\n",
      "33         LightGBM_r131_BAG_L1   0.975062     roc_auc      30.259217     97.718275               30.259217          97.718275            1       True         16\n",
      "34  NeuralNetFastAI_r191_BAG_L1   0.974861     roc_auc       7.910988   1862.164835                7.910988        1862.164835            1       True         17\n",
      "35    NeuralNetTorch_r79_BAG_L1   0.974845     roc_auc       1.939765    469.977645                1.939765         469.977645            1       True         15\n",
      "36  NeuralNetFastAI_r145_BAG_L1   0.974829     roc_auc      10.283791   1807.913615               10.283791        1807.913615            1       True         28\n",
      "37       NeuralNetFastAI_BAG_L2   0.974646     roc_auc     275.178514  20248.468042                5.671010         656.204486            2       True         43\n",
      "38        ExtraTreesGini_BAG_L2   0.974578     roc_auc     278.285937  19625.154280                8.778434          32.890723            2       True         41\n",
      "39              LightGBM_BAG_L1   0.974555     roc_auc       3.949311     31.008850                3.949311          31.008850            1       True          4\n",
      "40  NeuralNetFastAI_r102_BAG_L2   0.974459     roc_auc     271.398143  19824.240178                1.890640         231.976621            2       True         57\n",
      "41  NeuralNetFastAI_r145_BAG_L2   0.974404     roc_auc     283.133341  19736.697355               13.625838         144.433798            2       True         61\n",
      "42    NeuralNetTorch_r30_BAG_L1   0.974380     roc_auc       2.899666    763.681272                2.899666         763.681272            1       True         30\n",
      "43        ExtraTreesEntr_BAG_L2   0.974348     roc_auc     278.186103  19623.299003                8.678600          31.035446            2       True         42\n",
      "44         LightGBMLarge_BAG_L1   0.974304     roc_auc       7.774619     47.371560                7.774619          47.371560            1       True         13\n",
      "45        NeuralNetTorch_BAG_L1   0.974088     roc_auc       1.559322    400.454019                1.559322         400.454019            1       True         12\n",
      "46    NeuralNetTorch_r22_BAG_L1   0.974037     roc_auc       2.903719    833.639432                2.903719         833.639432            1       True         20\n",
      "47      RandomForestEntr_BAG_L2   0.974029     roc_auc     277.192176  19738.714593                7.684672         146.451036            2       True         39\n",
      "48        ExtraTrees_r42_BAG_L2   0.973873     roc_auc     277.692439  19707.294613                8.184935         115.031056            2       True         55\n",
      "49       NeuralNetFastAI_BAG_L1   0.973868     roc_auc       5.673262    643.091596                5.673262         643.091596            1       True         10\n",
      "50      RandomForestGini_BAG_L2   0.973816     roc_auc     277.476196  19740.163845                7.968693         147.900289            2       True         38\n",
      "51    NeuralNetTorch_r86_BAG_L1   0.973566     roc_auc       8.865011    883.616358                8.865011         883.616358            1       True         32\n",
      "52  NeuralNetFastAI_r102_BAG_L1   0.973384     roc_auc       1.534171    206.396942                1.534171         206.396942            1       True         24\n",
      "53     RandomForest_r195_BAG_L2   0.972811     roc_auc     277.535517  20534.494313                8.028014         942.230756            2       True         59\n",
      "54      RandomForestEntr_BAG_L1   0.972236     roc_auc       6.337448     27.173501                6.337448          27.173501            1       True          6\n",
      "55        ExtraTreesGini_BAG_L1   0.972229     roc_auc       6.653183     19.258150                6.653183          19.258150            1       True          8\n",
      "56        ExtraTreesEntr_BAG_L1   0.972212     roc_auc       7.017695     24.671348                7.017695          24.671348            1       True          9\n",
      "57   NeuralNetFastAI_r11_BAG_L1   0.971848     roc_auc      15.997975    102.014089               15.997975         102.014089            1       True         34\n",
      "58      RandomForestGini_BAG_L1   0.971781     roc_auc       6.554667     28.510972                6.554667          28.510972            1       True          5\n",
      "59        ExtraTrees_r42_BAG_L1   0.970450     roc_auc       6.473837     37.195334                6.473837          37.195334            1       True         22\n",
      "60     RandomForest_r195_BAG_L1   0.969148     roc_auc       5.889158     65.226648                5.889158          65.226648            1       True         26\n",
      "61        KNeighborsUnif_BAG_L1   0.923312     roc_auc       1.219107      0.889858                1.219107           0.889858            1       True          1\n",
      "62        KNeighborsDist_BAG_L1   0.902088     roc_auc       1.205201      0.256112                1.205201           0.256112            1       True          2\n",
      "Number of models trained: 63\n",
      "Types of models trained:\n",
      "{'StackerEnsembleModel_RF', 'StackerEnsembleModel_CatBoost', 'StackerEnsembleModel_NNFastAiTabular', 'WeightedEnsembleModel', 'StackerEnsembleModel_LGB', 'StackerEnsembleModel_XT', 'StackerEnsembleModel_TabularNeuralNetTorch', 'StackerEnsembleModel_XGBoost', 'StackerEnsembleModel_KNN'}\n",
      "Bagging used: True  (with 8 folds)\n",
      "Multi-layer stack-ensembling used: True  (with 3 levels)\n",
      "Feature Metadata (Processed):\n",
      "(raw dtype, special dtypes):\n",
      "('category', [])  : 6 | ['Name', 'City', 'Profession', 'Sleep Duration', 'Dietary Habits', ...]\n",
      "('float', [])     : 8 | ['Age', 'Academic Pressure', 'Work Pressure', 'CGPA', 'Study Satisfaction', ...]\n",
      "('int', ['bool']) : 4 | ['Gender', 'Working Professional or Student', 'Have you ever had suicidal thoughts ?', 'Family History of Mental Illness']\n",
      "*** End of fit() summary ***\n"
     ]
    }
   ],
   "source": [
    "from autogluon.tabular import TabularPredictor\n",
    "\n",
    "predictor = TabularPredictor(\n",
    "    label=\"Depression\",\n",
    "    eval_metric=\"roc_auc\",\n",
    "    problem_type=\"binary\",\n",
    "    verbosity=1,\n",
    ")\n",
    "\n",
    "predictor.fit(\n",
    "    train_data=train,\n",
    "    time_limit=(3600*11),\n",
    "    presets=\"best_quality\",\n",
    ")\n",
    "\n",
    "predictor.fit_summary(verbosity=1)\n",
    "predictions = predictor.predict(test)"
   ]
  },
  {
   "cell_type": "code",
   "execution_count": 9,
   "id": "b6beef57",
   "metadata": {
    "execution": {
     "iopub.execute_input": "2025-01-19T12:38:17.584448Z",
     "iopub.status.busy": "2025-01-19T12:38:17.583490Z",
     "iopub.status.idle": "2025-01-19T12:38:17.665294Z",
     "shell.execute_reply": "2025-01-19T12:38:17.664080Z"
    },
    "papermill": {
     "duration": 0.092459,
     "end_time": "2025-01-19T12:38:17.667310",
     "exception": false,
     "start_time": "2025-01-19T12:38:17.574851",
     "status": "completed"
    },
    "tags": []
   },
   "outputs": [],
   "source": [
    "df = pd.DataFrame({'id': test_ids, 'Depression': predictions})\n",
    "df.to_csv(\"submission.csv\", index=False)"
   ]
  }
 ],
 "metadata": {
  "kaggle": {
   "accelerator": "none",
   "dataSources": [
    {
     "databundleVersionId": 10008389,
     "sourceId": 84895,
     "sourceType": "competition"
    },
    {
     "datasetId": 5868381,
     "sourceId": 9616093,
     "sourceType": "datasetVersion"
    }
   ],
   "dockerImageVersionId": 30839,
   "isGpuEnabled": false,
   "isInternetEnabled": true,
   "language": "python",
   "sourceType": "notebook"
  },
  "kernelspec": {
   "display_name": "base",
   "language": "python",
   "name": "python3"
  },
  "language_info": {
   "codemirror_mode": {
    "name": "ipython",
    "version": 3
   },
   "file_extension": ".py",
   "mimetype": "text/x-python",
   "name": "python",
   "nbconvert_exporter": "python",
   "pygments_lexer": "ipython3",
   "version": "3.12.7"
  },
  "papermill": {
   "default_parameters": {},
   "duration": 40217.811743,
   "end_time": "2025-01-19T12:38:20.579079",
   "environment_variables": {},
   "exception": null,
   "input_path": "__notebook__.ipynb",
   "output_path": "__notebook__.ipynb",
   "parameters": {},
   "start_time": "2025-01-19T01:28:02.767336",
   "version": "2.6.0"
  }
 },
 "nbformat": 4,
 "nbformat_minor": 5
}
